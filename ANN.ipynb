{
 "cells": [
  {
   "cell_type": "code",
   "execution_count": 350,
   "id": "a78e1987",
   "metadata": {},
   "outputs": [],
   "source": [
    "import pandas as pd\n",
    "import numpy as np\n",
    "import matplotlib.pyplot as plt\n",
    "from tensorflow.keras import Sequential\n",
    "from tensorflow.keras.layers import Dense,Dropout\n",
    "from tensorflow.keras import regularizers\n",
    "from sklearn.preprocessing import StandardScaler\n",
    "from sklearn.model_selection import train_test_split\n",
    "from imblearn.over_sampling import SMOTE\n",
    "from sklearn.metrics import accuracy_score,confusion_matrix"
   ]
  },
  {
   "cell_type": "code",
   "execution_count": 586,
   "id": "585d406d",
   "metadata": {},
   "outputs": [],
   "source": [
    "df=pd.read_csv('diabetes.csv')"
   ]
  },
  {
   "cell_type": "code",
   "execution_count": 587,
   "id": "f0c39a5c",
   "metadata": {},
   "outputs": [
    {
     "data": {
      "text/plain": [
       "0    500\n",
       "1    268\n",
       "Name: Outcome, dtype: int64"
      ]
     },
     "execution_count": 587,
     "metadata": {},
     "output_type": "execute_result"
    }
   ],
   "source": [
    "df.Outcome.value_counts()"
   ]
  },
  {
   "cell_type": "code",
   "execution_count": 588,
   "id": "30be5020",
   "metadata": {},
   "outputs": [
    {
     "data": {
      "text/html": [
       "<div>\n",
       "<style scoped>\n",
       "    .dataframe tbody tr th:only-of-type {\n",
       "        vertical-align: middle;\n",
       "    }\n",
       "\n",
       "    .dataframe tbody tr th {\n",
       "        vertical-align: top;\n",
       "    }\n",
       "\n",
       "    .dataframe thead th {\n",
       "        text-align: right;\n",
       "    }\n",
       "</style>\n",
       "<table border=\"1\" class=\"dataframe\">\n",
       "  <thead>\n",
       "    <tr style=\"text-align: right;\">\n",
       "      <th></th>\n",
       "      <th>Pregnancies</th>\n",
       "      <th>Glucose</th>\n",
       "      <th>BloodPressure</th>\n",
       "      <th>SkinThickness</th>\n",
       "      <th>Insulin</th>\n",
       "      <th>BMI</th>\n",
       "      <th>DiabetesPedigreeFunction</th>\n",
       "      <th>Age</th>\n",
       "      <th>Outcome</th>\n",
       "    </tr>\n",
       "  </thead>\n",
       "  <tbody>\n",
       "    <tr>\n",
       "      <th>0</th>\n",
       "      <td>6</td>\n",
       "      <td>148</td>\n",
       "      <td>72</td>\n",
       "      <td>35</td>\n",
       "      <td>0</td>\n",
       "      <td>33.6</td>\n",
       "      <td>0.627</td>\n",
       "      <td>50</td>\n",
       "      <td>1</td>\n",
       "    </tr>\n",
       "    <tr>\n",
       "      <th>1</th>\n",
       "      <td>1</td>\n",
       "      <td>85</td>\n",
       "      <td>66</td>\n",
       "      <td>29</td>\n",
       "      <td>0</td>\n",
       "      <td>26.6</td>\n",
       "      <td>0.351</td>\n",
       "      <td>31</td>\n",
       "      <td>0</td>\n",
       "    </tr>\n",
       "    <tr>\n",
       "      <th>2</th>\n",
       "      <td>8</td>\n",
       "      <td>183</td>\n",
       "      <td>64</td>\n",
       "      <td>0</td>\n",
       "      <td>0</td>\n",
       "      <td>23.3</td>\n",
       "      <td>0.672</td>\n",
       "      <td>32</td>\n",
       "      <td>1</td>\n",
       "    </tr>\n",
       "    <tr>\n",
       "      <th>3</th>\n",
       "      <td>1</td>\n",
       "      <td>89</td>\n",
       "      <td>66</td>\n",
       "      <td>23</td>\n",
       "      <td>94</td>\n",
       "      <td>28.1</td>\n",
       "      <td>0.167</td>\n",
       "      <td>21</td>\n",
       "      <td>0</td>\n",
       "    </tr>\n",
       "    <tr>\n",
       "      <th>4</th>\n",
       "      <td>0</td>\n",
       "      <td>137</td>\n",
       "      <td>40</td>\n",
       "      <td>35</td>\n",
       "      <td>168</td>\n",
       "      <td>43.1</td>\n",
       "      <td>2.288</td>\n",
       "      <td>33</td>\n",
       "      <td>1</td>\n",
       "    </tr>\n",
       "  </tbody>\n",
       "</table>\n",
       "</div>"
      ],
      "text/plain": [
       "   Pregnancies  Glucose  BloodPressure  SkinThickness  Insulin   BMI  \\\n",
       "0            6      148             72             35        0  33.6   \n",
       "1            1       85             66             29        0  26.6   \n",
       "2            8      183             64              0        0  23.3   \n",
       "3            1       89             66             23       94  28.1   \n",
       "4            0      137             40             35      168  43.1   \n",
       "\n",
       "   DiabetesPedigreeFunction  Age  Outcome  \n",
       "0                     0.627   50        1  \n",
       "1                     0.351   31        0  \n",
       "2                     0.672   32        1  \n",
       "3                     0.167   21        0  \n",
       "4                     2.288   33        1  "
      ]
     },
     "execution_count": 588,
     "metadata": {},
     "output_type": "execute_result"
    }
   ],
   "source": [
    "df.head()"
   ]
  },
  {
   "cell_type": "code",
   "execution_count": null,
   "id": "97036981",
   "metadata": {},
   "outputs": [],
   "source": []
  },
  {
   "cell_type": "code",
   "execution_count": 589,
   "id": "534e4452",
   "metadata": {},
   "outputs": [
    {
     "name": "stdout",
     "output_type": "stream",
     "text": [
      "<class 'pandas.core.frame.DataFrame'>\n",
      "RangeIndex: 768 entries, 0 to 767\n",
      "Data columns (total 9 columns):\n",
      " #   Column                    Non-Null Count  Dtype  \n",
      "---  ------                    --------------  -----  \n",
      " 0   Pregnancies               768 non-null    int64  \n",
      " 1   Glucose                   768 non-null    int64  \n",
      " 2   BloodPressure             768 non-null    int64  \n",
      " 3   SkinThickness             768 non-null    int64  \n",
      " 4   Insulin                   768 non-null    int64  \n",
      " 5   BMI                       768 non-null    float64\n",
      " 6   DiabetesPedigreeFunction  768 non-null    float64\n",
      " 7   Age                       768 non-null    int64  \n",
      " 8   Outcome                   768 non-null    int64  \n",
      "dtypes: float64(2), int64(7)\n",
      "memory usage: 54.1 KB\n"
     ]
    }
   ],
   "source": [
    "df.info()"
   ]
  },
  {
   "cell_type": "code",
   "execution_count": 590,
   "id": "5f0ff931",
   "metadata": {},
   "outputs": [
    {
     "data": {
      "text/html": [
       "<div>\n",
       "<style scoped>\n",
       "    .dataframe tbody tr th:only-of-type {\n",
       "        vertical-align: middle;\n",
       "    }\n",
       "\n",
       "    .dataframe tbody tr th {\n",
       "        vertical-align: top;\n",
       "    }\n",
       "\n",
       "    .dataframe thead th {\n",
       "        text-align: right;\n",
       "    }\n",
       "</style>\n",
       "<table border=\"1\" class=\"dataframe\">\n",
       "  <thead>\n",
       "    <tr style=\"text-align: right;\">\n",
       "      <th></th>\n",
       "      <th>Pregnancies</th>\n",
       "      <th>Glucose</th>\n",
       "      <th>BloodPressure</th>\n",
       "      <th>SkinThickness</th>\n",
       "      <th>Insulin</th>\n",
       "      <th>BMI</th>\n",
       "      <th>DiabetesPedigreeFunction</th>\n",
       "      <th>Age</th>\n",
       "      <th>Outcome</th>\n",
       "    </tr>\n",
       "  </thead>\n",
       "  <tbody>\n",
       "    <tr>\n",
       "      <th>Pregnancies</th>\n",
       "      <td>1.000000</td>\n",
       "      <td>0.129459</td>\n",
       "      <td>0.141282</td>\n",
       "      <td>-0.081672</td>\n",
       "      <td>-0.073535</td>\n",
       "      <td>0.017683</td>\n",
       "      <td>-0.033523</td>\n",
       "      <td>0.544341</td>\n",
       "      <td>0.221898</td>\n",
       "    </tr>\n",
       "    <tr>\n",
       "      <th>Glucose</th>\n",
       "      <td>0.129459</td>\n",
       "      <td>1.000000</td>\n",
       "      <td>0.152590</td>\n",
       "      <td>0.057328</td>\n",
       "      <td>0.331357</td>\n",
       "      <td>0.221071</td>\n",
       "      <td>0.137337</td>\n",
       "      <td>0.263514</td>\n",
       "      <td>0.466581</td>\n",
       "    </tr>\n",
       "    <tr>\n",
       "      <th>BloodPressure</th>\n",
       "      <td>0.141282</td>\n",
       "      <td>0.152590</td>\n",
       "      <td>1.000000</td>\n",
       "      <td>0.207371</td>\n",
       "      <td>0.088933</td>\n",
       "      <td>0.281805</td>\n",
       "      <td>0.041265</td>\n",
       "      <td>0.239528</td>\n",
       "      <td>0.065068</td>\n",
       "    </tr>\n",
       "    <tr>\n",
       "      <th>SkinThickness</th>\n",
       "      <td>-0.081672</td>\n",
       "      <td>0.057328</td>\n",
       "      <td>0.207371</td>\n",
       "      <td>1.000000</td>\n",
       "      <td>0.436783</td>\n",
       "      <td>0.392573</td>\n",
       "      <td>0.183928</td>\n",
       "      <td>-0.113970</td>\n",
       "      <td>0.074752</td>\n",
       "    </tr>\n",
       "    <tr>\n",
       "      <th>Insulin</th>\n",
       "      <td>-0.073535</td>\n",
       "      <td>0.331357</td>\n",
       "      <td>0.088933</td>\n",
       "      <td>0.436783</td>\n",
       "      <td>1.000000</td>\n",
       "      <td>0.197859</td>\n",
       "      <td>0.185071</td>\n",
       "      <td>-0.042163</td>\n",
       "      <td>0.130548</td>\n",
       "    </tr>\n",
       "    <tr>\n",
       "      <th>BMI</th>\n",
       "      <td>0.017683</td>\n",
       "      <td>0.221071</td>\n",
       "      <td>0.281805</td>\n",
       "      <td>0.392573</td>\n",
       "      <td>0.197859</td>\n",
       "      <td>1.000000</td>\n",
       "      <td>0.140647</td>\n",
       "      <td>0.036242</td>\n",
       "      <td>0.292695</td>\n",
       "    </tr>\n",
       "    <tr>\n",
       "      <th>DiabetesPedigreeFunction</th>\n",
       "      <td>-0.033523</td>\n",
       "      <td>0.137337</td>\n",
       "      <td>0.041265</td>\n",
       "      <td>0.183928</td>\n",
       "      <td>0.185071</td>\n",
       "      <td>0.140647</td>\n",
       "      <td>1.000000</td>\n",
       "      <td>0.033561</td>\n",
       "      <td>0.173844</td>\n",
       "    </tr>\n",
       "    <tr>\n",
       "      <th>Age</th>\n",
       "      <td>0.544341</td>\n",
       "      <td>0.263514</td>\n",
       "      <td>0.239528</td>\n",
       "      <td>-0.113970</td>\n",
       "      <td>-0.042163</td>\n",
       "      <td>0.036242</td>\n",
       "      <td>0.033561</td>\n",
       "      <td>1.000000</td>\n",
       "      <td>0.238356</td>\n",
       "    </tr>\n",
       "    <tr>\n",
       "      <th>Outcome</th>\n",
       "      <td>0.221898</td>\n",
       "      <td>0.466581</td>\n",
       "      <td>0.065068</td>\n",
       "      <td>0.074752</td>\n",
       "      <td>0.130548</td>\n",
       "      <td>0.292695</td>\n",
       "      <td>0.173844</td>\n",
       "      <td>0.238356</td>\n",
       "      <td>1.000000</td>\n",
       "    </tr>\n",
       "  </tbody>\n",
       "</table>\n",
       "</div>"
      ],
      "text/plain": [
       "                          Pregnancies   Glucose  BloodPressure  SkinThickness  \\\n",
       "Pregnancies                  1.000000  0.129459       0.141282      -0.081672   \n",
       "Glucose                      0.129459  1.000000       0.152590       0.057328   \n",
       "BloodPressure                0.141282  0.152590       1.000000       0.207371   \n",
       "SkinThickness               -0.081672  0.057328       0.207371       1.000000   \n",
       "Insulin                     -0.073535  0.331357       0.088933       0.436783   \n",
       "BMI                          0.017683  0.221071       0.281805       0.392573   \n",
       "DiabetesPedigreeFunction    -0.033523  0.137337       0.041265       0.183928   \n",
       "Age                          0.544341  0.263514       0.239528      -0.113970   \n",
       "Outcome                      0.221898  0.466581       0.065068       0.074752   \n",
       "\n",
       "                           Insulin       BMI  DiabetesPedigreeFunction  \\\n",
       "Pregnancies              -0.073535  0.017683                 -0.033523   \n",
       "Glucose                   0.331357  0.221071                  0.137337   \n",
       "BloodPressure             0.088933  0.281805                  0.041265   \n",
       "SkinThickness             0.436783  0.392573                  0.183928   \n",
       "Insulin                   1.000000  0.197859                  0.185071   \n",
       "BMI                       0.197859  1.000000                  0.140647   \n",
       "DiabetesPedigreeFunction  0.185071  0.140647                  1.000000   \n",
       "Age                      -0.042163  0.036242                  0.033561   \n",
       "Outcome                   0.130548  0.292695                  0.173844   \n",
       "\n",
       "                               Age   Outcome  \n",
       "Pregnancies               0.544341  0.221898  \n",
       "Glucose                   0.263514  0.466581  \n",
       "BloodPressure             0.239528  0.065068  \n",
       "SkinThickness            -0.113970  0.074752  \n",
       "Insulin                  -0.042163  0.130548  \n",
       "BMI                       0.036242  0.292695  \n",
       "DiabetesPedigreeFunction  0.033561  0.173844  \n",
       "Age                       1.000000  0.238356  \n",
       "Outcome                   0.238356  1.000000  "
      ]
     },
     "execution_count": 590,
     "metadata": {},
     "output_type": "execute_result"
    }
   ],
   "source": [
    "df.corr()"
   ]
  },
  {
   "cell_type": "code",
   "execution_count": 614,
   "id": "42a3eeec",
   "metadata": {},
   "outputs": [],
   "source": [
    "X=df.drop('Outcome',axis=1)"
   ]
  },
  {
   "cell_type": "code",
   "execution_count": 615,
   "id": "c338cabf",
   "metadata": {},
   "outputs": [],
   "source": [
    "y=df['Outcome']"
   ]
  },
  {
   "cell_type": "code",
   "execution_count": null,
   "id": "937be5aa",
   "metadata": {},
   "outputs": [],
   "source": []
  },
  {
   "cell_type": "code",
   "execution_count": 616,
   "id": "e4d5ab8c",
   "metadata": {},
   "outputs": [],
   "source": [
    "def outliers(col,):\n",
    "    \n",
    "    Q1 = np.percentile(X[col], 25)\n",
    "    Q3 = np.percentile(X[col], 75)\n",
    "    IQR = Q3 - Q1\n",
    "    upper = Q3 + 1.5* IQR\n",
    "    lower = Q1 - 1.5* IQR\n",
    "    rem=X[(X[col] > upper) | (X[col] < lower)].index\n",
    "    X.drop(rem,axis=0,inplace=True)\n",
    "    y.drop(rem,axis=0,inplace=True)"
   ]
  },
  {
   "cell_type": "code",
   "execution_count": 617,
   "id": "357916d2",
   "metadata": {},
   "outputs": [],
   "source": [
    "for i in X.columns:\n",
    "    outliers(i)"
   ]
  },
  {
   "cell_type": "code",
   "execution_count": null,
   "id": "8408d3b4",
   "metadata": {},
   "outputs": [],
   "source": []
  },
  {
   "cell_type": "code",
   "execution_count": 618,
   "id": "bb3479b7",
   "metadata": {},
   "outputs": [],
   "source": [
    "X_train,X_test,y_train,y_test=train_test_split(X,y,test_size=0.3)"
   ]
  },
  {
   "cell_type": "code",
   "execution_count": 619,
   "id": "ab275af8",
   "metadata": {},
   "outputs": [],
   "source": [
    "std_sl=StandardScaler()\n",
    "X_train=std_sl.fit_transform(X_train)\n",
    "X_test = std_sl.transform(X_test)"
   ]
  },
  {
   "cell_type": "code",
   "execution_count": null,
   "id": "6a1a0252",
   "metadata": {},
   "outputs": [],
   "source": []
  },
  {
   "cell_type": "code",
   "execution_count": 620,
   "id": "ff3f8f44",
   "metadata": {},
   "outputs": [],
   "source": [
    "class_weights = compute_class_weight('balanced', classes=np.unique(y_train), y= y_train)\n",
    "class_weights_dict = dict(enumerate(class_weights))"
   ]
  },
  {
   "cell_type": "code",
   "execution_count": 621,
   "id": "fc3e83f7",
   "metadata": {},
   "outputs": [],
   "source": [
    "n_features=X_train.shape[1]"
   ]
  },
  {
   "cell_type": "code",
   "execution_count": 622,
   "id": "b058a906",
   "metadata": {},
   "outputs": [],
   "source": [
    "model=Sequential()"
   ]
  },
  {
   "cell_type": "code",
   "execution_count": 623,
   "id": "999afa54",
   "metadata": {},
   "outputs": [],
   "source": [
    "model.add(Dense(32,activation='relu',input_shape=(n_features,)))"
   ]
  },
  {
   "cell_type": "code",
   "execution_count": 624,
   "id": "de29594b",
   "metadata": {},
   "outputs": [],
   "source": [
    "model.add(Dense(16,activation='relu'))"
   ]
  },
  {
   "cell_type": "code",
   "execution_count": 625,
   "id": "3411406a",
   "metadata": {},
   "outputs": [],
   "source": [
    "model.add(Dropout(.2))"
   ]
  },
  {
   "cell_type": "code",
   "execution_count": 626,
   "id": "bc1add4a",
   "metadata": {},
   "outputs": [],
   "source": [
    "model.add(Dense(8,activation='relu'))"
   ]
  },
  {
   "cell_type": "code",
   "execution_count": 627,
   "id": "588c2766",
   "metadata": {},
   "outputs": [],
   "source": [
    "model.add(Dense(1,activation='sigmoid'))"
   ]
  },
  {
   "cell_type": "code",
   "execution_count": 628,
   "id": "0f393fd5",
   "metadata": {},
   "outputs": [],
   "source": [
    "model.compile(optimizer='adam',loss='binary_crossentropy',metrics=['accuracy'])"
   ]
  },
  {
   "cell_type": "code",
   "execution_count": 629,
   "id": "d831f678",
   "metadata": {},
   "outputs": [
    {
     "name": "stdout",
     "output_type": "stream",
     "text": [
      "Epoch 1/150\n",
      "14/14 [==============================] - 1s 15ms/step - loss: 0.7059 - accuracy: 0.3685 - val_loss: 0.7520 - val_accuracy: 0.3874\n",
      "Epoch 2/150\n",
      "14/14 [==============================] - 0s 5ms/step - loss: 0.6736 - accuracy: 0.4270 - val_loss: 0.7079 - val_accuracy: 0.4555\n",
      "Epoch 3/150\n",
      "14/14 [==============================] - 0s 5ms/step - loss: 0.6520 - accuracy: 0.5169 - val_loss: 0.6741 - val_accuracy: 0.5759\n",
      "Epoch 4/150\n",
      "14/14 [==============================] - 0s 4ms/step - loss: 0.6424 - accuracy: 0.5843 - val_loss: 0.6532 - val_accuracy: 0.6649\n",
      "Epoch 5/150\n",
      "14/14 [==============================] - 0s 5ms/step - loss: 0.6212 - accuracy: 0.6090 - val_loss: 0.6315 - val_accuracy: 0.6859\n",
      "Epoch 6/150\n",
      "14/14 [==============================] - 0s 4ms/step - loss: 0.6202 - accuracy: 0.6562 - val_loss: 0.6036 - val_accuracy: 0.7277\n",
      "Epoch 7/150\n",
      "14/14 [==============================] - 0s 4ms/step - loss: 0.6023 - accuracy: 0.6809 - val_loss: 0.5752 - val_accuracy: 0.7592\n",
      "Epoch 8/150\n",
      "14/14 [==============================] - 0s 5ms/step - loss: 0.5880 - accuracy: 0.6876 - val_loss: 0.5503 - val_accuracy: 0.7644\n",
      "Epoch 9/150\n",
      "14/14 [==============================] - 0s 4ms/step - loss: 0.5723 - accuracy: 0.7079 - val_loss: 0.5284 - val_accuracy: 0.7749\n",
      "Epoch 10/150\n",
      "14/14 [==============================] - 0s 4ms/step - loss: 0.5694 - accuracy: 0.7169 - val_loss: 0.5013 - val_accuracy: 0.7906\n",
      "Epoch 11/150\n",
      "14/14 [==============================] - 0s 6ms/step - loss: 0.5634 - accuracy: 0.7258 - val_loss: 0.4882 - val_accuracy: 0.7906\n",
      "Epoch 12/150\n",
      "14/14 [==============================] - 0s 4ms/step - loss: 0.5516 - accuracy: 0.7303 - val_loss: 0.4705 - val_accuracy: 0.8010\n",
      "Epoch 13/150\n",
      "14/14 [==============================] - 0s 5ms/step - loss: 0.5397 - accuracy: 0.7258 - val_loss: 0.4517 - val_accuracy: 0.8010\n",
      "Epoch 14/150\n",
      "14/14 [==============================] - 0s 5ms/step - loss: 0.5317 - accuracy: 0.7281 - val_loss: 0.4431 - val_accuracy: 0.8115\n",
      "Epoch 15/150\n",
      "14/14 [==============================] - 0s 5ms/step - loss: 0.5289 - accuracy: 0.7236 - val_loss: 0.4330 - val_accuracy: 0.8168\n",
      "Epoch 16/150\n",
      "14/14 [==============================] - 0s 5ms/step - loss: 0.5215 - accuracy: 0.7371 - val_loss: 0.4302 - val_accuracy: 0.8063\n",
      "Epoch 17/150\n",
      "14/14 [==============================] - 0s 4ms/step - loss: 0.5270 - accuracy: 0.7438 - val_loss: 0.4253 - val_accuracy: 0.8010\n",
      "Epoch 18/150\n",
      "14/14 [==============================] - 0s 5ms/step - loss: 0.5312 - accuracy: 0.7303 - val_loss: 0.4217 - val_accuracy: 0.8063\n",
      "Epoch 19/150\n",
      "14/14 [==============================] - 0s 5ms/step - loss: 0.5160 - accuracy: 0.7506 - val_loss: 0.4149 - val_accuracy: 0.8168\n",
      "Epoch 20/150\n",
      "14/14 [==============================] - 0s 4ms/step - loss: 0.5036 - accuracy: 0.7416 - val_loss: 0.4065 - val_accuracy: 0.8325\n",
      "Epoch 21/150\n",
      "14/14 [==============================] - 0s 5ms/step - loss: 0.5109 - accuracy: 0.7528 - val_loss: 0.4125 - val_accuracy: 0.8220\n",
      "Epoch 22/150\n",
      "14/14 [==============================] - 0s 5ms/step - loss: 0.4999 - accuracy: 0.7596 - val_loss: 0.4124 - val_accuracy: 0.8168\n",
      "Epoch 23/150\n",
      "14/14 [==============================] - 0s 5ms/step - loss: 0.5138 - accuracy: 0.7438 - val_loss: 0.4047 - val_accuracy: 0.8272\n",
      "Epoch 24/150\n",
      "14/14 [==============================] - 0s 5ms/step - loss: 0.5088 - accuracy: 0.7506 - val_loss: 0.4100 - val_accuracy: 0.8168\n",
      "Epoch 25/150\n",
      "14/14 [==============================] - 0s 5ms/step - loss: 0.5056 - accuracy: 0.7528 - val_loss: 0.4112 - val_accuracy: 0.8115\n",
      "Epoch 26/150\n",
      "14/14 [==============================] - 0s 5ms/step - loss: 0.5006 - accuracy: 0.7506 - val_loss: 0.4052 - val_accuracy: 0.8220\n",
      "Epoch 27/150\n",
      "14/14 [==============================] - 0s 5ms/step - loss: 0.4897 - accuracy: 0.7551 - val_loss: 0.4066 - val_accuracy: 0.8168\n",
      "Epoch 28/150\n",
      "14/14 [==============================] - 0s 5ms/step - loss: 0.4800 - accuracy: 0.7730 - val_loss: 0.4018 - val_accuracy: 0.8220\n",
      "Epoch 29/150\n",
      "14/14 [==============================] - 0s 5ms/step - loss: 0.4926 - accuracy: 0.7483 - val_loss: 0.3986 - val_accuracy: 0.8220\n",
      "Epoch 30/150\n",
      "14/14 [==============================] - 0s 5ms/step - loss: 0.4800 - accuracy: 0.7618 - val_loss: 0.4045 - val_accuracy: 0.8115\n",
      "Epoch 31/150\n",
      "14/14 [==============================] - 0s 4ms/step - loss: 0.4692 - accuracy: 0.7865 - val_loss: 0.3986 - val_accuracy: 0.8168\n",
      "Epoch 32/150\n",
      "14/14 [==============================] - 0s 4ms/step - loss: 0.4697 - accuracy: 0.7865 - val_loss: 0.4023 - val_accuracy: 0.8063\n",
      "Epoch 33/150\n",
      "14/14 [==============================] - 0s 5ms/step - loss: 0.4802 - accuracy: 0.7775 - val_loss: 0.3940 - val_accuracy: 0.8168\n",
      "Epoch 34/150\n",
      "14/14 [==============================] - 0s 4ms/step - loss: 0.4746 - accuracy: 0.7596 - val_loss: 0.3990 - val_accuracy: 0.8063\n",
      "Epoch 35/150\n",
      "14/14 [==============================] - 0s 4ms/step - loss: 0.4769 - accuracy: 0.7753 - val_loss: 0.3950 - val_accuracy: 0.8115\n",
      "Epoch 36/150\n",
      "14/14 [==============================] - 0s 5ms/step - loss: 0.4664 - accuracy: 0.7753 - val_loss: 0.3933 - val_accuracy: 0.8272\n",
      "Epoch 37/150\n",
      "14/14 [==============================] - 0s 4ms/step - loss: 0.4622 - accuracy: 0.7910 - val_loss: 0.3853 - val_accuracy: 0.8272\n",
      "Epoch 38/150\n",
      "14/14 [==============================] - 0s 4ms/step - loss: 0.4616 - accuracy: 0.7685 - val_loss: 0.3886 - val_accuracy: 0.8272\n",
      "Epoch 39/150\n",
      "14/14 [==============================] - 0s 4ms/step - loss: 0.4623 - accuracy: 0.7843 - val_loss: 0.3909 - val_accuracy: 0.8168\n",
      "Epoch 40/150\n",
      "14/14 [==============================] - 0s 4ms/step - loss: 0.4775 - accuracy: 0.7618 - val_loss: 0.3892 - val_accuracy: 0.8168\n",
      "Epoch 41/150\n",
      "14/14 [==============================] - 0s 4ms/step - loss: 0.4524 - accuracy: 0.7640 - val_loss: 0.3941 - val_accuracy: 0.8115\n",
      "Epoch 42/150\n",
      "14/14 [==============================] - 0s 4ms/step - loss: 0.4569 - accuracy: 0.7820 - val_loss: 0.3872 - val_accuracy: 0.8325\n",
      "Epoch 43/150\n",
      "14/14 [==============================] - 0s 4ms/step - loss: 0.4643 - accuracy: 0.7685 - val_loss: 0.3893 - val_accuracy: 0.8272\n",
      "Epoch 44/150\n",
      "14/14 [==============================] - 0s 4ms/step - loss: 0.4528 - accuracy: 0.7910 - val_loss: 0.3835 - val_accuracy: 0.8220\n",
      "Epoch 45/150\n",
      "14/14 [==============================] - 0s 4ms/step - loss: 0.4534 - accuracy: 0.7978 - val_loss: 0.3866 - val_accuracy: 0.8220\n",
      "Epoch 46/150\n",
      "14/14 [==============================] - 0s 4ms/step - loss: 0.4531 - accuracy: 0.7888 - val_loss: 0.3958 - val_accuracy: 0.8272\n",
      "Epoch 47/150\n",
      "14/14 [==============================] - 0s 4ms/step - loss: 0.4496 - accuracy: 0.7708 - val_loss: 0.3910 - val_accuracy: 0.8325\n",
      "Epoch 48/150\n",
      "14/14 [==============================] - 0s 4ms/step - loss: 0.4601 - accuracy: 0.7910 - val_loss: 0.3852 - val_accuracy: 0.8377\n",
      "Epoch 49/150\n",
      "14/14 [==============================] - 0s 4ms/step - loss: 0.4382 - accuracy: 0.7865 - val_loss: 0.3855 - val_accuracy: 0.8377\n",
      "Epoch 50/150\n",
      "14/14 [==============================] - 0s 4ms/step - loss: 0.4365 - accuracy: 0.7933 - val_loss: 0.3874 - val_accuracy: 0.8325\n",
      "Epoch 51/150\n",
      "14/14 [==============================] - 0s 4ms/step - loss: 0.4503 - accuracy: 0.7910 - val_loss: 0.3875 - val_accuracy: 0.8168\n",
      "Epoch 52/150\n",
      "14/14 [==============================] - 0s 4ms/step - loss: 0.4379 - accuracy: 0.8090 - val_loss: 0.3882 - val_accuracy: 0.8063\n",
      "Epoch 53/150\n",
      "14/14 [==============================] - 0s 4ms/step - loss: 0.4335 - accuracy: 0.8067 - val_loss: 0.3919 - val_accuracy: 0.8272\n",
      "Epoch 54/150\n",
      "14/14 [==============================] - 0s 4ms/step - loss: 0.4391 - accuracy: 0.7888 - val_loss: 0.3873 - val_accuracy: 0.8325\n",
      "Epoch 55/150\n",
      "14/14 [==============================] - 0s 4ms/step - loss: 0.4346 - accuracy: 0.7978 - val_loss: 0.3898 - val_accuracy: 0.8325\n",
      "Epoch 56/150\n",
      "14/14 [==============================] - 0s 4ms/step - loss: 0.4393 - accuracy: 0.7910 - val_loss: 0.3889 - val_accuracy: 0.8325\n",
      "Epoch 57/150\n",
      "14/14 [==============================] - 0s 4ms/step - loss: 0.4243 - accuracy: 0.8180 - val_loss: 0.3870 - val_accuracy: 0.8272\n",
      "Epoch 58/150\n",
      "14/14 [==============================] - 0s 4ms/step - loss: 0.4286 - accuracy: 0.8067 - val_loss: 0.3854 - val_accuracy: 0.8168\n"
     ]
    },
    {
     "name": "stdout",
     "output_type": "stream",
     "text": [
      "Epoch 59/150\n",
      "14/14 [==============================] - 0s 4ms/step - loss: 0.4352 - accuracy: 0.7910 - val_loss: 0.3924 - val_accuracy: 0.8220\n",
      "Epoch 60/150\n",
      "14/14 [==============================] - 0s 4ms/step - loss: 0.4245 - accuracy: 0.8270 - val_loss: 0.3919 - val_accuracy: 0.8272\n",
      "Epoch 61/150\n",
      "14/14 [==============================] - 0s 4ms/step - loss: 0.4336 - accuracy: 0.7888 - val_loss: 0.3872 - val_accuracy: 0.8220\n",
      "Epoch 62/150\n",
      "14/14 [==============================] - 0s 4ms/step - loss: 0.4172 - accuracy: 0.7865 - val_loss: 0.3823 - val_accuracy: 0.8272\n",
      "Epoch 63/150\n",
      "14/14 [==============================] - 0s 4ms/step - loss: 0.4454 - accuracy: 0.8112 - val_loss: 0.3835 - val_accuracy: 0.8325\n",
      "Epoch 64/150\n",
      "14/14 [==============================] - 0s 4ms/step - loss: 0.4261 - accuracy: 0.8135 - val_loss: 0.3883 - val_accuracy: 0.8115\n",
      "Epoch 65/150\n",
      "14/14 [==============================] - 0s 4ms/step - loss: 0.4213 - accuracy: 0.8045 - val_loss: 0.3815 - val_accuracy: 0.8168\n",
      "Epoch 66/150\n",
      "14/14 [==============================] - 0s 4ms/step - loss: 0.4445 - accuracy: 0.7888 - val_loss: 0.3896 - val_accuracy: 0.8115\n",
      "Epoch 67/150\n",
      "14/14 [==============================] - 0s 4ms/step - loss: 0.4115 - accuracy: 0.8112 - val_loss: 0.3921 - val_accuracy: 0.8115\n",
      "Epoch 68/150\n",
      "14/14 [==============================] - 0s 4ms/step - loss: 0.4109 - accuracy: 0.8135 - val_loss: 0.3840 - val_accuracy: 0.8220\n",
      "Epoch 69/150\n",
      "14/14 [==============================] - 0s 4ms/step - loss: 0.4041 - accuracy: 0.8225 - val_loss: 0.3876 - val_accuracy: 0.8115\n",
      "Epoch 70/150\n",
      "14/14 [==============================] - 0s 4ms/step - loss: 0.4128 - accuracy: 0.8157 - val_loss: 0.3948 - val_accuracy: 0.8325\n",
      "Epoch 71/150\n",
      "14/14 [==============================] - 0s 4ms/step - loss: 0.4095 - accuracy: 0.8180 - val_loss: 0.3949 - val_accuracy: 0.8220\n",
      "Epoch 72/150\n",
      "14/14 [==============================] - 0s 4ms/step - loss: 0.4192 - accuracy: 0.8157 - val_loss: 0.3855 - val_accuracy: 0.8220\n",
      "Epoch 73/150\n",
      "14/14 [==============================] - 0s 4ms/step - loss: 0.4283 - accuracy: 0.8000 - val_loss: 0.3847 - val_accuracy: 0.8115\n",
      "Epoch 74/150\n",
      "14/14 [==============================] - 0s 4ms/step - loss: 0.4210 - accuracy: 0.8067 - val_loss: 0.3877 - val_accuracy: 0.8220\n",
      "Epoch 75/150\n",
      "14/14 [==============================] - 0s 4ms/step - loss: 0.4186 - accuracy: 0.8180 - val_loss: 0.3859 - val_accuracy: 0.8168\n",
      "Epoch 76/150\n",
      "14/14 [==============================] - 0s 4ms/step - loss: 0.4049 - accuracy: 0.8090 - val_loss: 0.3876 - val_accuracy: 0.8168\n",
      "Epoch 77/150\n",
      "14/14 [==============================] - 0s 4ms/step - loss: 0.4022 - accuracy: 0.8090 - val_loss: 0.3858 - val_accuracy: 0.8168\n",
      "Epoch 78/150\n",
      "14/14 [==============================] - 0s 4ms/step - loss: 0.4165 - accuracy: 0.8045 - val_loss: 0.3896 - val_accuracy: 0.8168\n",
      "Epoch 79/150\n",
      "14/14 [==============================] - 0s 4ms/step - loss: 0.4008 - accuracy: 0.8360 - val_loss: 0.3862 - val_accuracy: 0.8168\n",
      "Epoch 80/150\n",
      "14/14 [==============================] - 0s 4ms/step - loss: 0.4099 - accuracy: 0.8112 - val_loss: 0.3882 - val_accuracy: 0.8063\n",
      "Epoch 81/150\n",
      "14/14 [==============================] - 0s 4ms/step - loss: 0.3983 - accuracy: 0.8022 - val_loss: 0.3900 - val_accuracy: 0.8063\n",
      "Epoch 82/150\n",
      "14/14 [==============================] - 0s 4ms/step - loss: 0.4034 - accuracy: 0.8157 - val_loss: 0.3885 - val_accuracy: 0.8115\n",
      "Epoch 83/150\n",
      "14/14 [==============================] - 0s 4ms/step - loss: 0.3990 - accuracy: 0.8270 - val_loss: 0.3862 - val_accuracy: 0.8272\n",
      "Epoch 84/150\n",
      "14/14 [==============================] - 0s 4ms/step - loss: 0.4015 - accuracy: 0.8157 - val_loss: 0.3864 - val_accuracy: 0.8168\n",
      "Epoch 85/150\n",
      "14/14 [==============================] - 0s 4ms/step - loss: 0.3815 - accuracy: 0.8292 - val_loss: 0.3872 - val_accuracy: 0.8168\n",
      "Epoch 86/150\n",
      "14/14 [==============================] - 0s 4ms/step - loss: 0.4215 - accuracy: 0.8135 - val_loss: 0.3843 - val_accuracy: 0.8168\n",
      "Epoch 87/150\n",
      "14/14 [==============================] - 0s 4ms/step - loss: 0.3962 - accuracy: 0.8225 - val_loss: 0.3860 - val_accuracy: 0.8063\n",
      "Epoch 88/150\n",
      "14/14 [==============================] - 0s 4ms/step - loss: 0.3792 - accuracy: 0.8404 - val_loss: 0.3856 - val_accuracy: 0.8063\n",
      "Epoch 89/150\n",
      "14/14 [==============================] - 0s 4ms/step - loss: 0.3811 - accuracy: 0.8157 - val_loss: 0.3900 - val_accuracy: 0.8010\n",
      "Epoch 90/150\n",
      "14/14 [==============================] - 0s 4ms/step - loss: 0.4013 - accuracy: 0.8247 - val_loss: 0.3886 - val_accuracy: 0.8063\n",
      "Epoch 91/150\n",
      "14/14 [==============================] - 0s 4ms/step - loss: 0.3829 - accuracy: 0.8270 - val_loss: 0.3862 - val_accuracy: 0.8010\n",
      "Epoch 92/150\n",
      "14/14 [==============================] - 0s 4ms/step - loss: 0.3640 - accuracy: 0.8382 - val_loss: 0.3814 - val_accuracy: 0.8063\n",
      "Epoch 93/150\n",
      "14/14 [==============================] - 0s 4ms/step - loss: 0.3772 - accuracy: 0.8292 - val_loss: 0.3869 - val_accuracy: 0.8010\n",
      "Epoch 94/150\n",
      "14/14 [==============================] - 0s 4ms/step - loss: 0.3803 - accuracy: 0.8315 - val_loss: 0.3875 - val_accuracy: 0.8010\n",
      "Epoch 95/150\n",
      "14/14 [==============================] - 0s 4ms/step - loss: 0.3905 - accuracy: 0.8202 - val_loss: 0.3902 - val_accuracy: 0.7958\n",
      "Epoch 96/150\n",
      "14/14 [==============================] - 0s 4ms/step - loss: 0.3723 - accuracy: 0.8472 - val_loss: 0.3886 - val_accuracy: 0.7853\n",
      "Epoch 97/150\n",
      "14/14 [==============================] - 0s 4ms/step - loss: 0.3744 - accuracy: 0.8427 - val_loss: 0.3883 - val_accuracy: 0.7906\n",
      "Epoch 98/150\n",
      "14/14 [==============================] - 0s 4ms/step - loss: 0.3919 - accuracy: 0.8270 - val_loss: 0.3902 - val_accuracy: 0.7958\n",
      "Epoch 99/150\n",
      "14/14 [==============================] - 0s 4ms/step - loss: 0.3686 - accuracy: 0.8225 - val_loss: 0.3839 - val_accuracy: 0.8010\n",
      "Epoch 100/150\n",
      "14/14 [==============================] - 0s 4ms/step - loss: 0.3718 - accuracy: 0.8270 - val_loss: 0.3850 - val_accuracy: 0.7958\n",
      "Epoch 101/150\n",
      "14/14 [==============================] - 0s 4ms/step - loss: 0.3649 - accuracy: 0.8472 - val_loss: 0.3918 - val_accuracy: 0.7906\n",
      "Epoch 102/150\n",
      "14/14 [==============================] - 0s 4ms/step - loss: 0.3699 - accuracy: 0.8360 - val_loss: 0.3802 - val_accuracy: 0.7906\n",
      "Epoch 103/150\n",
      "14/14 [==============================] - 0s 4ms/step - loss: 0.3515 - accuracy: 0.8562 - val_loss: 0.3798 - val_accuracy: 0.7958\n",
      "Epoch 104/150\n",
      "14/14 [==============================] - 0s 4ms/step - loss: 0.3524 - accuracy: 0.8404 - val_loss: 0.3838 - val_accuracy: 0.7853\n",
      "Epoch 105/150\n",
      "14/14 [==============================] - 0s 4ms/step - loss: 0.3809 - accuracy: 0.8404 - val_loss: 0.3821 - val_accuracy: 0.7958\n",
      "Epoch 106/150\n",
      "14/14 [==============================] - 0s 4ms/step - loss: 0.3549 - accuracy: 0.8427 - val_loss: 0.3797 - val_accuracy: 0.7958\n",
      "Epoch 107/150\n",
      "14/14 [==============================] - 0s 4ms/step - loss: 0.3684 - accuracy: 0.8247 - val_loss: 0.3815 - val_accuracy: 0.7958\n",
      "Epoch 108/150\n",
      "14/14 [==============================] - 0s 4ms/step - loss: 0.3657 - accuracy: 0.8315 - val_loss: 0.3839 - val_accuracy: 0.7958\n",
      "Epoch 109/150\n",
      "14/14 [==============================] - 0s 4ms/step - loss: 0.3715 - accuracy: 0.8360 - val_loss: 0.3874 - val_accuracy: 0.7853\n",
      "Epoch 110/150\n",
      "14/14 [==============================] - 0s 4ms/step - loss: 0.3559 - accuracy: 0.8517 - val_loss: 0.3915 - val_accuracy: 0.7749\n",
      "Epoch 111/150\n",
      "14/14 [==============================] - 0s 4ms/step - loss: 0.3581 - accuracy: 0.8247 - val_loss: 0.3843 - val_accuracy: 0.8010\n",
      "Epoch 112/150\n",
      "14/14 [==============================] - 0s 4ms/step - loss: 0.3600 - accuracy: 0.8539 - val_loss: 0.3843 - val_accuracy: 0.7853\n",
      "Epoch 113/150\n",
      "14/14 [==============================] - 0s 4ms/step - loss: 0.3713 - accuracy: 0.8337 - val_loss: 0.3992 - val_accuracy: 0.7749\n",
      "Epoch 114/150\n",
      "14/14 [==============================] - 0s 4ms/step - loss: 0.3600 - accuracy: 0.8247 - val_loss: 0.3839 - val_accuracy: 0.7958\n",
      "Epoch 115/150\n",
      "14/14 [==============================] - 0s 4ms/step - loss: 0.3722 - accuracy: 0.8472 - val_loss: 0.3833 - val_accuracy: 0.8010\n",
      "Epoch 116/150\n"
     ]
    },
    {
     "name": "stdout",
     "output_type": "stream",
     "text": [
      "14/14 [==============================] - 0s 4ms/step - loss: 0.3570 - accuracy: 0.8315 - val_loss: 0.3879 - val_accuracy: 0.7906\n",
      "Epoch 117/150\n",
      "14/14 [==============================] - 0s 4ms/step - loss: 0.3632 - accuracy: 0.8315 - val_loss: 0.3941 - val_accuracy: 0.7853\n",
      "Epoch 118/150\n",
      "14/14 [==============================] - 0s 4ms/step - loss: 0.3454 - accuracy: 0.8404 - val_loss: 0.3916 - val_accuracy: 0.7801\n",
      "Epoch 119/150\n",
      "14/14 [==============================] - 0s 4ms/step - loss: 0.3594 - accuracy: 0.8494 - val_loss: 0.3995 - val_accuracy: 0.7853\n",
      "Epoch 120/150\n",
      "14/14 [==============================] - 0s 4ms/step - loss: 0.3302 - accuracy: 0.8652 - val_loss: 0.3923 - val_accuracy: 0.7906\n",
      "Epoch 121/150\n",
      "14/14 [==============================] - 0s 4ms/step - loss: 0.3349 - accuracy: 0.8629 - val_loss: 0.3994 - val_accuracy: 0.7853\n",
      "Epoch 122/150\n",
      "14/14 [==============================] - 0s 4ms/step - loss: 0.3350 - accuracy: 0.8472 - val_loss: 0.3929 - val_accuracy: 0.7801\n",
      "Epoch 123/150\n",
      "14/14 [==============================] - 0s 4ms/step - loss: 0.3528 - accuracy: 0.8472 - val_loss: 0.3983 - val_accuracy: 0.7801\n",
      "Epoch 124/150\n",
      "14/14 [==============================] - 0s 4ms/step - loss: 0.3484 - accuracy: 0.8472 - val_loss: 0.3875 - val_accuracy: 0.7853\n",
      "Epoch 125/150\n",
      "14/14 [==============================] - 0s 4ms/step - loss: 0.3254 - accuracy: 0.8584 - val_loss: 0.3832 - val_accuracy: 0.7853\n",
      "Epoch 126/150\n",
      "14/14 [==============================] - 0s 4ms/step - loss: 0.3455 - accuracy: 0.8360 - val_loss: 0.3934 - val_accuracy: 0.7696\n",
      "Epoch 127/150\n",
      "14/14 [==============================] - 0s 4ms/step - loss: 0.3500 - accuracy: 0.8427 - val_loss: 0.3947 - val_accuracy: 0.7696\n",
      "Epoch 128/150\n",
      "14/14 [==============================] - 0s 4ms/step - loss: 0.3263 - accuracy: 0.8449 - val_loss: 0.3906 - val_accuracy: 0.7696\n",
      "Epoch 129/150\n",
      "14/14 [==============================] - 0s 4ms/step - loss: 0.3505 - accuracy: 0.8292 - val_loss: 0.3951 - val_accuracy: 0.7592\n",
      "Epoch 130/150\n",
      "14/14 [==============================] - 0s 4ms/step - loss: 0.3555 - accuracy: 0.8337 - val_loss: 0.3885 - val_accuracy: 0.7801\n",
      "Epoch 131/150\n",
      "14/14 [==============================] - 0s 4ms/step - loss: 0.3273 - accuracy: 0.8584 - val_loss: 0.3944 - val_accuracy: 0.7749\n",
      "Epoch 132/150\n",
      "14/14 [==============================] - 0s 4ms/step - loss: 0.3246 - accuracy: 0.8629 - val_loss: 0.3975 - val_accuracy: 0.7696\n",
      "Epoch 133/150\n",
      "14/14 [==============================] - 0s 4ms/step - loss: 0.3177 - accuracy: 0.8539 - val_loss: 0.4001 - val_accuracy: 0.7696\n",
      "Epoch 134/150\n",
      "14/14 [==============================] - 0s 4ms/step - loss: 0.3229 - accuracy: 0.8652 - val_loss: 0.3997 - val_accuracy: 0.7853\n",
      "Epoch 135/150\n",
      "14/14 [==============================] - 0s 4ms/step - loss: 0.3355 - accuracy: 0.8697 - val_loss: 0.4052 - val_accuracy: 0.7696\n",
      "Epoch 136/150\n",
      "14/14 [==============================] - 0s 4ms/step - loss: 0.3091 - accuracy: 0.8517 - val_loss: 0.4003 - val_accuracy: 0.7853\n",
      "Epoch 137/150\n",
      "14/14 [==============================] - 0s 4ms/step - loss: 0.3336 - accuracy: 0.8449 - val_loss: 0.4008 - val_accuracy: 0.7853\n",
      "Epoch 138/150\n",
      "14/14 [==============================] - 0s 4ms/step - loss: 0.3263 - accuracy: 0.8562 - val_loss: 0.4026 - val_accuracy: 0.7801\n",
      "Epoch 139/150\n",
      "14/14 [==============================] - 0s 4ms/step - loss: 0.3288 - accuracy: 0.8562 - val_loss: 0.4084 - val_accuracy: 0.7592\n",
      "Epoch 140/150\n",
      "14/14 [==============================] - 0s 4ms/step - loss: 0.3188 - accuracy: 0.8674 - val_loss: 0.4026 - val_accuracy: 0.7853\n",
      "Epoch 141/150\n",
      "14/14 [==============================] - 0s 4ms/step - loss: 0.2933 - accuracy: 0.8764 - val_loss: 0.4057 - val_accuracy: 0.7644\n",
      "Epoch 142/150\n",
      "14/14 [==============================] - 0s 4ms/step - loss: 0.3250 - accuracy: 0.8607 - val_loss: 0.3992 - val_accuracy: 0.7958\n",
      "Epoch 143/150\n",
      "14/14 [==============================] - 0s 4ms/step - loss: 0.3070 - accuracy: 0.8764 - val_loss: 0.3952 - val_accuracy: 0.7906\n",
      "Epoch 144/150\n",
      "14/14 [==============================] - 0s 4ms/step - loss: 0.3207 - accuracy: 0.8629 - val_loss: 0.4021 - val_accuracy: 0.7696\n",
      "Epoch 145/150\n",
      "14/14 [==============================] - 0s 4ms/step - loss: 0.3196 - accuracy: 0.8742 - val_loss: 0.4182 - val_accuracy: 0.7696\n",
      "Epoch 146/150\n",
      "14/14 [==============================] - 0s 4ms/step - loss: 0.3414 - accuracy: 0.8360 - val_loss: 0.4234 - val_accuracy: 0.7749\n",
      "Epoch 147/150\n",
      "14/14 [==============================] - 0s 4ms/step - loss: 0.3227 - accuracy: 0.8584 - val_loss: 0.4080 - val_accuracy: 0.7749\n",
      "Epoch 148/150\n",
      "14/14 [==============================] - 0s 4ms/step - loss: 0.3160 - accuracy: 0.8584 - val_loss: 0.4083 - val_accuracy: 0.7801\n",
      "Epoch 149/150\n",
      "14/14 [==============================] - 0s 4ms/step - loss: 0.3106 - accuracy: 0.8674 - val_loss: 0.4128 - val_accuracy: 0.7749\n",
      "Epoch 150/150\n",
      "14/14 [==============================] - 0s 4ms/step - loss: 0.2962 - accuracy: 0.8652 - val_loss: 0.4091 - val_accuracy: 0.7696\n"
     ]
    },
    {
     "data": {
      "text/plain": [
       "<keras.callbacks.History at 0x2050e2beee0>"
      ]
     },
     "execution_count": 629,
     "metadata": {},
     "output_type": "execute_result"
    }
   ],
   "source": [
    "model.fit(X_train,y_train,batch_size=32,validation_data=(X_test,y_test),epochs=150,class_weight=class_weights_dict)"
   ]
  },
  {
   "cell_type": "code",
   "execution_count": 630,
   "id": "882830da",
   "metadata": {},
   "outputs": [
    {
     "name": "stdout",
     "output_type": "stream",
     "text": [
      "6/6 [==============================] - 0s 3ms/step - loss: 0.4091 - accuracy: 0.7696\n"
     ]
    }
   ],
   "source": [
    "loss,acc=model.evaluate(X_test,y_test)"
   ]
  },
  {
   "cell_type": "code",
   "execution_count": 631,
   "id": "029aa131",
   "metadata": {},
   "outputs": [
    {
     "data": {
      "text/plain": [
       "0.7696335315704346"
      ]
     },
     "execution_count": 631,
     "metadata": {},
     "output_type": "execute_result"
    }
   ],
   "source": [
    "acc"
   ]
  },
  {
   "cell_type": "code",
   "execution_count": 632,
   "id": "49a71b5c",
   "metadata": {},
   "outputs": [
    {
     "name": "stdout",
     "output_type": "stream",
     "text": [
      "6/6 [==============================] - 0s 1ms/step\n",
      "14/14 [==============================] - 0s 1ms/step\n"
     ]
    }
   ],
   "source": [
    "y_test_pred=model.predict(X_test)\n",
    "y_test_pred = (y_test_pred >= 0.7)\n",
    "\n",
    "y_train_pred=model.predict(X_train)\n",
    "y_train_pred = (y_train_pred >=0.7)"
   ]
  },
  {
   "cell_type": "code",
   "execution_count": 633,
   "id": "d19eb2e9",
   "metadata": {},
   "outputs": [
    {
     "data": {
      "text/plain": [
       "0.903370786516854"
      ]
     },
     "execution_count": 633,
     "metadata": {},
     "output_type": "execute_result"
    }
   ],
   "source": [
    "accuracy_score(y_train,y_train_pred)"
   ]
  },
  {
   "cell_type": "code",
   "execution_count": 634,
   "id": "610d3f28",
   "metadata": {},
   "outputs": [
    {
     "data": {
      "text/plain": [
       "0.8219895287958116"
      ]
     },
     "execution_count": 634,
     "metadata": {},
     "output_type": "execute_result"
    }
   ],
   "source": [
    "accuracy_score(y_test,y_test_pred)"
   ]
  },
  {
   "cell_type": "code",
   "execution_count": 635,
   "id": "2dc459d9",
   "metadata": {},
   "outputs": [
    {
     "data": {
      "text/plain": [
       "array([[291,  16],\n",
       "       [ 27, 111]], dtype=int64)"
      ]
     },
     "execution_count": 635,
     "metadata": {},
     "output_type": "execute_result"
    }
   ],
   "source": [
    "confusion_matrix(y_train,y_train_pred)"
   ]
  },
  {
   "cell_type": "code",
   "execution_count": 636,
   "id": "2264b1d6",
   "metadata": {},
   "outputs": [
    {
     "data": {
      "text/plain": [
       "array([[121,  11],\n",
       "       [ 23,  36]], dtype=int64)"
      ]
     },
     "execution_count": 636,
     "metadata": {},
     "output_type": "execute_result"
    }
   ],
   "source": [
    "confusion_matrix(y_test,y_test_pred)"
   ]
  },
  {
   "cell_type": "code",
   "execution_count": 637,
   "id": "c3d961be",
   "metadata": {},
   "outputs": [],
   "source": [
    "import pickle"
   ]
  },
  {
   "cell_type": "code",
   "execution_count": 639,
   "id": "8abcbc1c",
   "metadata": {},
   "outputs": [],
   "source": [
    "with open('ann_model.pkl','wb') as f:\n",
    "    pickle.dump(model,f)"
   ]
  },
  {
   "cell_type": "code",
   "execution_count": 640,
   "id": "4f46df00",
   "metadata": {},
   "outputs": [],
   "source": [
    "loaded_model=pickle.load(open('ann_model.pkl','rb'))"
   ]
  },
  {
   "cell_type": "code",
   "execution_count": 641,
   "id": "20c1832e",
   "metadata": {},
   "outputs": [
    {
     "name": "stdout",
     "output_type": "stream",
     "text": [
      "1/1 [==============================] - 0s 66ms/step\n"
     ]
    },
    {
     "data": {
      "text/plain": [
       "array([[1.]], dtype=float32)"
      ]
     },
     "execution_count": 641,
     "metadata": {},
     "output_type": "execute_result"
    }
   ],
   "source": [
    "loaded_model.predict(np.array([[6,148,72,35,0,33.6,0.627,50]]))"
   ]
  },
  {
   "cell_type": "code",
   "execution_count": null,
   "id": "e492f8f7",
   "metadata": {},
   "outputs": [],
   "source": []
  }
 ],
 "metadata": {
  "kernelspec": {
   "display_name": "Python 3 (ipykernel)",
   "language": "python",
   "name": "python3"
  },
  "language_info": {
   "codemirror_mode": {
    "name": "ipython",
    "version": 3
   },
   "file_extension": ".py",
   "mimetype": "text/x-python",
   "name": "python",
   "nbconvert_exporter": "python",
   "pygments_lexer": "ipython3",
   "version": "3.9.7"
  }
 },
 "nbformat": 4,
 "nbformat_minor": 5
}
